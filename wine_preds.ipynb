{
 "cells": [
  {
   "cell_type": "code",
   "execution_count": 1,
   "id": "1b4226a6-0211-4dd8-9c70-d784c03d9036",
   "metadata": {},
   "outputs": [],
   "source": [
    "# Package imports\n",
    "import pandas as pd\n",
    "import numpy as np\n",
    "import matplotlib.pyplot as plt\n",
    "from sklearn.preprocessing import PolynomialFeatures\n",
    "from sklearn.linear_model import LinearRegression\n",
    "from sklearn.metrics import mean_squared_error\n",
    "from sklearn.model_selection import KFold\n",
    "from sklearn.model_selection import train_test_split\n",
    "import statistics\n",
    "from sklearn.utils import shuffle\n",
    "from sklearn.linear_model import Ridge \n",
    "from sklearn.preprocessing import MinMaxScaler\n",
    "import seaborn as sns"
   ]
  },
  {
   "cell_type": "markdown",
   "id": "d47200aa-31f7-4075-870c-41e0261db981",
   "metadata": {},
   "source": [
    "# Red wine"
   ]
  },
  {
   "cell_type": "code",
   "execution_count": 2,
   "id": "47c14b33-0545-4123-80c9-0586020d61af",
   "metadata": {},
   "outputs": [
    {
     "name": "stdout",
     "output_type": "stream",
     "text": [
      "1599\n",
      "[[ 7.4    0.7    0.    ...  0.56   9.4    5.   ]\n",
      " [ 7.8    0.88   0.    ...  0.68   9.8    5.   ]\n",
      " [ 7.8    0.76   0.04  ...  0.65   9.8    5.   ]\n",
      " ...\n",
      " [ 6.3    0.51   0.13  ...  0.75  11.     6.   ]\n",
      " [ 5.9    0.645  0.12  ...  0.71  10.2    5.   ]\n",
      " [ 6.     0.31   0.47  ...  0.66  11.     6.   ]]\n"
     ]
    }
   ],
   "source": [
    "red_df = pd.read_csv('winequality-red.csv', sep=';')\n",
    "red_df = red_df.to_numpy()\n",
    "red_x = red_df[:, 0:11]\n",
    "red_y = red_df[:, 11]\n",
    "print(len(red_df))\n",
    "print(red_df)"
   ]
  },
  {
   "cell_type": "code",
   "execution_count": 3,
   "id": "e86e629b-05f6-429b-a1fc-e558ad41a2c8",
   "metadata": {},
   "outputs": [
    {
     "data": {
      "text/plain": [
       "<seaborn.axisgrid.FacetGrid at 0x14e06440b820>"
      ]
     },
     "execution_count": 3,
     "metadata": {},
     "output_type": "execute_result"
    },
    {
     "data": {
      "image/png": "[encoded data removed]",
      "text/plain": [
       "<Figure size 360x360 with 1 Axes>"
      ]
     },
     "metadata": {
      "needs_background": "light"
     },
     "output_type": "display_data"
    }
   ],
   "source": [
    "red_wine = pd.read_csv('winequality-red.csv', sep=';')\n",
    "sns.displot(red_wine, x=\"quality\").set(title='Distribution of Wine Quality ratings for the Red Wines dataset')"
   ]
  },
  {
   "cell_type": "code",
   "execution_count": 4,
   "id": "79db130c-a5f9-453f-8a4a-a3b0cff944df",
   "metadata": {},
   "outputs": [
    {
     "name": "stdout",
     "output_type": "stream",
     "text": [
      "1279\n"
     ]
    }
   ],
   "source": [
    "#Red Wine all predictors \n",
    "#saving 20% of data for testing \n",
    "red_df = shuffle(red_df,random_state=21)\n",
    "\n",
    "X_train, X_test, y_train, y_test = train_test_split(red_x, red_y, test_size=0.20, random_state=42)\n",
    "# restructuring dataset \n",
    "X_train = pd.DataFrame(X_train)\n",
    "y_train = pd.DataFrame(y_train)\n",
    "X_train.insert(11, \"quality\", y_train, allow_duplicates=True)\n",
    "red_df = X_train.to_numpy()\n",
    "print(len(red_df))\n",
    "# x_test and y_test are being reserved for validation \n",
    "red_test_x = X_test\n",
    "red_test_y = y_test\n"
   ]
  },
  {
   "cell_type": "code",
   "execution_count": 5,
   "id": "d8a7c4d0-01d4-4ab6-b335-61842500e60b",
   "metadata": {},
   "outputs": [
    {
     "name": "stdout",
     "output_type": "stream",
     "text": [
      "0.653505859375\n"
     ]
    }
   ],
   "source": [
    "# dummy model train error (0.637495942)\n",
    "\n",
    "mean = y_train.mean()\n",
    "mean_squared_error(y_train, [mean for i in range(len( X_train))])\n",
    "\n",
    "# dummy model test error 0.653505859375\n",
    "mean = y_test.mean()\n",
    "print(mean_squared_error(y_test, [mean for i in range(len( X_test))]))"
   ]
  },
  {
   "cell_type": "code",
   "execution_count": 6,
   "id": "f8b8e003-9c91-4468-b742-20b93c5b8331",
   "metadata": {},
   "outputs": [
    {
     "name": "stdout",
     "output_type": "stream",
     "text": [
      "[6. 6. 6. 5. 5.]\n",
      "[5.99968828 6.00000766 5.99763273 4.99733458 5.00021767]\n",
      "-----------------\n",
      "[6. 6. 7. 4. 6.]\n",
      "[5.99997735 6.00025266 6.99913225 4.0001996  5.99725462]\n",
      "-----------------\n",
      "[5. 8. 5. 5. 5.]\n",
      "[5.00249299 8.00021615 5.00049247 4.99990615 4.99664604]\n",
      "-----------------\n",
      "[6. 6. 6. 5. 5.]\n",
      "[5.99969394 5.99959852 5.99965807 5.00087292 4.99964334]\n",
      "-----------------\n",
      "[7. 5. 5. 7. 6.]\n",
      "[6.99382661 5.00505422 4.99895571 7.0000932  6.00237578]\n",
      "-----------------\n",
      "[6. 6. 6. 7. 5.]\n",
      "[5.98632837 5.9952751  5.98424875 7.00012446 4.99756521]\n",
      "-----------------\n",
      "[6. 5. 5. 5. 5.]\n",
      "[5.99780001 5.0025723  5.01326541 5.00039693 4.99920464]\n",
      "-----------------\n",
      "[5. 6. 4. 6. 5.]\n",
      "[4.99548417 6.00085378 4.00020273 5.99977019 4.99906685]\n",
      "-----------------\n",
      "[5. 6. 5. 6. 6.]\n",
      "[5.00110303 6.00198916 5.01004856 5.99955736 5.9935242 ]\n",
      "-----------------\n",
      "[7. 6. 5. 5. 6.]\n",
      "[7.00099387 5.99728137 5.00066242 4.99984168 5.99999473]\n",
      "-----------------\n",
      "3.149365425839343e-05\n"
     ]
    }
   ],
   "source": [
    "#red wine\n",
    "# cross validation  \n",
    "kf = KFold(n_splits=10) # 5 or 10 # hyperparameter \n",
    "error = []\n",
    "\n",
    "for train, test in kf.split(red_df):\n",
    "    x_train= red_df[:, 0:11]\n",
    "    y_train = red_df[:, 11]  \n",
    "    poly = PolynomialFeatures(5) # hyperparameters 1 2 3 5 \n",
    "    x_transformed = poly.fit_transform(x_train)\n",
    "   \n",
    "    # train the model\n",
    "    red_model = LinearRegression().fit(x_transformed, y_train)\n",
    "    test_df = red_df[test, :]\n",
    "    \n",
    "#     # validate \n",
    "    test_df = red_df[test, :]\n",
    "    x_test= test_df[:, 0:11]\n",
    "    y_test = test_df[:, 11]\n",
    "    x_transformed = poly.fit_transform(x_test)\n",
    "    \n",
    "    preds = red_model.predict(x_transformed) \n",
    "\n",
    "    print(y_test[0:5])\n",
    "    print(preds[0:5])\n",
    "    print(\"-----------------\")\n",
    "    \n",
    "    #examining error \n",
    "    error.append(mean_squared_error(y_test, preds))\n",
    "print(statistics.mean(error))"
   ]
  },
  {
   "cell_type": "code",
   "execution_count": 7,
   "id": "4f75b48a-ee7e-4c68-9c6f-65ad5a6df358",
   "metadata": {},
   "outputs": [
    {
     "name": "stdout",
     "output_type": "stream",
     "text": [
      "[6. 6. 6. 5. 5.]\n",
      "[5.70581311 6.0498602  5.68544401 5.1079133  4.79759285]\n",
      "-----------------\n",
      "[6. 6. 6. 5. 5.]\n",
      "[5.6665498  5.10455266 6.11996809 5.70151329 5.79278061]\n",
      "-----------------\n",
      "[6. 6. 6. 5. 5.]\n",
      "[5.05690028 5.94732926 5.21977095 4.86679083 5.31167634]\n",
      "-----------------\n",
      "[6. 6. 6. 5. 5.]\n",
      "[5.99917189 6.31435771 5.48659813 5.3084349  4.7884447 ]\n",
      "-----------------\n",
      "[6. 6. 6. 5. 5.]\n",
      "[6.01537662 5.19766711 5.33598627 6.15510814 6.09310626]\n",
      "-----------------\n",
      "[6. 6. 6. 5. 5.]\n",
      "[5.26517275 5.47296208 5.64781134 6.32950464 5.67498992]\n",
      "-----------------\n",
      "[6. 6. 6. 5. 5.]\n",
      "[5.42202892 5.48241358 5.42768439 4.89798791 5.21590719]\n",
      "-----------------\n",
      "[6. 6. 6. 5. 5.]\n",
      "[5.61541124 5.65213582 5.68910437 5.73215079 5.86141233]\n",
      "-----------------\n",
      "[6. 6. 6. 5. 5.]\n",
      "[5.44652233 5.5309132  5.49973274 5.73946906 5.72153314]\n",
      "-----------------\n",
      "[6. 6. 6. 5. 5.]\n",
      "[6.06563599 4.99269185 5.39951204 5.69734649 6.58837645]\n",
      "-----------------\n",
      "0.4242006491276194\n"
     ]
    }
   ],
   "source": [
    "# training with multicolinearity \n",
    "kf = KFold(n_splits=10) # 5 or 10 # hyperparameter \n",
    "\n",
    "error = []\n",
    "\n",
    "for train, test in kf.split(red_df):\n",
    "    clf= Ridge(alpha=0.001)\n",
    "    clf.fit(x_train,y_train)\n",
    "    x_train= red_df[:, 0:11]\n",
    "    y_train = red_df[:, 11]    \n",
    "    \n",
    "    # test \n",
    "    test_df = red_df[test, :]\n",
    "    x_test= test_df[:, 0:11]\n",
    "    y_test = test_df[:, 11]\n",
    "    \n",
    "    num_result = clf.predict(x_test)\n",
    "    print(y_train[0:5])\n",
    "    print(num_result[0:5])\n",
    "    print(\"-----------------\")\n",
    "    \n",
    "    #examining error \n",
    "    error.append(mean_squared_error(y_test, num_result))\n",
    "print(statistics.mean(error))"
   ]
  },
  {
   "cell_type": "code",
   "execution_count": 8,
   "id": "d9ea6c1b-fd67-4a30-8972-91d0928d14e4",
   "metadata": {},
   "outputs": [
    {
     "name": "stdout",
     "output_type": "stream",
     "text": [
      "         1      4     5     6     8     9     10\n",
      "0     0.410  0.076  22.0  54.0  3.42  1.16  10.6\n",
      "1     0.470  0.085   6.0  47.0  3.30  0.68  12.7\n",
      "2     0.380  0.068  23.0  42.0  3.34  0.72  12.9\n",
      "3     0.580  0.085  12.0  69.0  3.32  0.70  11.0\n",
      "4     0.740  0.078  21.0  77.0  3.28  0.51   9.8\n",
      "...     ...    ...   ...   ...   ...   ...   ...\n",
      "1018  0.690  0.091  15.0  21.0  3.38  0.60  11.3\n",
      "1019  0.390  0.082  14.0  67.0  3.34  0.55   9.2\n",
      "1020  0.645  0.086  14.0  57.0  3.37  0.46  10.3\n",
      "1021  0.430  0.078  27.0  67.0  3.60  0.59  11.1\n",
      "1022  0.660  0.083  21.0  59.0  3.37  0.71  11.5\n",
      "\n",
      "[1023 rows x 7 columns]\n"
     ]
    }
   ],
   "source": [
    "#Red Wine significant predictors Volitile acidity, chlorides, free sulfur dioxide, total sulfur dioxide, ph, sulfates, alcohol\n",
    "#saving 20% of data for testing \n",
    "red_df = shuffle(red_df,random_state=21)\n",
    "X_train, X_test, y_train, y_test = train_test_split(red_df[:, 0:11], red_df[:, 11], test_size=0.20, random_state=42)\n",
    "# restructuring dataset \n",
    "X_train = pd.DataFrame(X_train)\n",
    "X_train = X_train.drop(columns = [0, 2, 3, 7, ])\n",
    "y_train = pd.DataFrame(y_train)\n",
    "print(X_train)\n",
    "X_train.insert(7, \"quality\", y_train, allow_duplicates=True)\n",
    "red_df = X_train.to_numpy()\n",
    "\n",
    "# x_test and y_test are being reserved for validation \n",
    "red_test_x = X_test\n",
    "red_test_y = y_test"
   ]
  },
  {
   "cell_type": "code",
   "execution_count": 9,
   "id": "c2d16a69-c1d0-45f7-a8e5-6cfb4f8f4803",
   "metadata": {},
   "outputs": [
    {
     "name": "stdout",
     "output_type": "stream",
     "text": [
      "[6. 6. 7. 6. 5.]\n",
      "[6.16989824 6.32484507 6.61935497 5.6856527  5.1000364 ]\n",
      "-----------------\n",
      "[6. 6. 7. 6. 5.]\n",
      "[6.21363812 5.23048038 6.43775077 5.42613096 5.19949066]\n",
      "-----------------\n",
      "[6. 6. 7. 6. 5.]\n",
      "[6.95670316 5.15582855 4.88072651 5.42137346 5.71361114]\n",
      "-----------------\n",
      "[6. 6. 7. 6. 5.]\n",
      "[6.77376113 5.22189808 6.50526893 5.32532773 5.85379305]\n",
      "-----------------\n",
      "[6. 6. 7. 6. 5.]\n",
      "[4.98222019 5.04652628 5.34130067 6.18114712 5.73357467]\n",
      "-----------------\n",
      "[6. 6. 7. 6. 5.]\n",
      "[5.68283801 5.72130411 4.74991598 5.98784525 5.33126269]\n",
      "-----------------\n",
      "[6. 6. 7. 6. 5.]\n",
      "[4.99724728 5.13024727 5.52032916 5.76035709 6.22423383]\n",
      "-----------------\n",
      "[6. 6. 7. 6. 5.]\n",
      "[5.81360679 5.27133449 5.51061222 5.76333309 5.96851011]\n",
      "-----------------\n",
      "[6. 6. 7. 6. 5.]\n",
      "[6.13054555 6.54690499 6.18151315 5.63467508 6.393085  ]\n",
      "-----------------\n",
      "[6. 6. 7. 6. 5.]\n",
      "[5.66857851 4.97777561 5.67749643 5.40702236 5.24650975]\n",
      "-----------------\n",
      "0.43120982268369223\n"
     ]
    }
   ],
   "source": [
    "# training with multicolinearity \n",
    "kf = KFold(n_splits=10) # 5 or 10 # hyperparameter \n",
    "\n",
    "error = []\n",
    "\n",
    "for train, test in kf.split(red_df):\n",
    "  \n",
    "    x_train= red_df[:, 0:7]\n",
    "    y_train = red_df[:, 7]    \n",
    "    clf= Ridge(alpha=0.001)\n",
    "    clf.fit(x_train,y_train)\n",
    "    # test \n",
    "    test_df = red_df[test, :]\n",
    "    x_test= test_df[:, 0:7]\n",
    "    y_test = test_df[:, 7]\n",
    "    \n",
    "    num_result = clf.predict(x_test)\n",
    "    print(y_train[0:5])\n",
    "    print(num_result[0:5])\n",
    "    print(\"-----------------\")\n",
    "    \n",
    "    #examining error \n",
    "    error.append(mean_squared_error(y_test, num_result))\n",
    "print(statistics.mean(error))"
   ]
  },
  {
   "cell_type": "markdown",
   "id": "c94aabce-ec60-480a-aa0d-212234df4024",
   "metadata": {},
   "source": [
    "# White Wine"
   ]
  },
  {
   "cell_type": "code",
   "execution_count": 10,
   "id": "47cd6a8b-9c4c-435e-8e40-e0fcab7d5b5c",
   "metadata": {},
   "outputs": [],
   "source": [
    "white_df = pd.read_csv('winequality-white.csv', sep=';')\n",
    "white_df = white_df.to_numpy()\n",
    "white_x = white_df[:, 0:11]\n",
    "white_y = white_df[:, 11]"
   ]
  },
  {
   "cell_type": "code",
   "execution_count": 11,
   "id": "fa74cb8f-0390-4d78-ae91-8078d15f72ad",
   "metadata": {},
   "outputs": [
    {
     "data": {
      "text/plain": [
       "<seaborn.axisgrid.FacetGrid at 0x14e0245ecc70>"
      ]
     },
     "execution_count": 11,
     "metadata": {},
     "output_type": "execute_result"
    },
    {
     "data": {
      "image/png": "[encoded data removed]",
      "text/plain": [
       "<Figure size 360x360 with 1 Axes>"
      ]
     },
     "metadata": {
      "needs_background": "light"
     },
     "output_type": "display_data"
    }
   ],
   "source": [
    "white_wine = pd.read_csv('winequality-white.csv', sep=';')\n",
    "sns.displot(white_wine, x=\"quality\").set(title='Distribution of Wine Quality ratings for the White Wines dataset')"
   ]
  },
  {
   "cell_type": "markdown",
   "id": "bff15852-caf9-4b58-a09c-4a2489b23855",
   "metadata": {},
   "source": [
    "## Pre Processing and testing "
   ]
  },
  {
   "cell_type": "code",
   "execution_count": 12,
   "id": "d57f3d93-ee59-4231-9fe4-fd4527663481",
   "metadata": {},
   "outputs": [],
   "source": [
    "#saving 20% of data for testing \n",
    "white_df = shuffle(white_df,random_state=21)\n",
    "\n",
    "X_train, X_test, y_train, y_test = train_test_split(white_df[:, 0:11], white_df[:, 11], test_size=0.20, random_state=42)\n",
    "# restructuring dataset \n",
    "X_train = pd.DataFrame(X_train)\n",
    "y_train = pd.DataFrame(y_train)\n",
    "X_train.insert(11, \"quality\", y_train, allow_duplicates=True)\n",
    "white_df = X_train.to_numpy()\n",
    "\n",
    "# x_test and y_test are being reserved for validation \n",
    "white_test_x = X_test\n",
    "white_test_y = y_test"
   ]
  },
  {
   "cell_type": "code",
   "execution_count": 13,
   "id": "63fb971e-12f0-47be-a8d0-d29bedea3baf",
   "metadata": {},
   "outputs": [
    {
     "data": {
      "text/plain": [
       "0.8047107330745643"
      ]
     },
     "execution_count": 13,
     "metadata": {},
     "output_type": "execute_result"
    }
   ],
   "source": [
    "# dummy model train error of (0.78331)\n",
    "\n",
    "mean = y_train.mean()\n",
    "\n",
    "mean_squared_error(y_train, [mean for i in range(len( X_train))])\n",
    "\n",
    "# dummy model test error of (0.7797)\n",
    "\n",
    "mean = y_train.mean()\n",
    "\n",
    "mean_squared_error(y_test, [mean for i in range(len( X_test))])"
   ]
  },
  {
   "cell_type": "code",
   "execution_count": 14,
   "id": "25b5fa92-ead1-4acd-82ee-eee3feb8124f",
   "metadata": {},
   "outputs": [
    {
     "name": "stdout",
     "output_type": "stream",
     "text": [
      "[0.9918  0.998   0.99519 0.9948  0.99326]\n",
      "[0.99160261 0.99807399 0.99479628 0.99242297 0.99502066]\n",
      "-----------------\n",
      "[0.9898  0.99144 0.995   0.9955  0.9942 ]\n",
      "[0.99052565 0.99147858 0.99432359 0.99584048 0.99298951]\n",
      "-----------------\n",
      "[0.9981  0.997   0.99094 0.99172 0.9893 ]\n",
      "[0.99893196 0.99811338 0.99079295 0.99240446 0.98866073]\n",
      "-----------------\n",
      "[0.9947 0.9934 0.9911 0.9914 1.0004]\n",
      "[0.99562742 0.99329921 0.99164612 0.99324632 0.99950647]\n",
      "-----------------\n",
      "[1.      0.9928  0.99188 0.99712 0.99863]\n",
      "[0.99966474 0.9933568  0.99224756 0.99542141 0.99934805]\n",
      "-----------------\n",
      "[0.99709 0.99142 0.98944 0.9976  0.9993 ]\n",
      "[0.99813171 0.99174321 0.99117072 0.9978041  0.99895709]\n",
      "-----------------\n",
      "[0.9975  0.99269 0.9984  0.99121 0.99144]\n",
      "[0.99650605 0.99262803 0.99839923 0.98997089 0.99061972]\n",
      "-----------------\n",
      "[0.99517 0.9954  0.992   0.99838 0.99126]\n",
      "[0.99525746 0.99624751 0.99091352 0.997847   0.99104494]\n",
      "-----------------\n",
      "[0.995   0.9906  0.99908 0.9934  0.9965 ]\n",
      "[0.99426074 0.99013258 1.00007792 0.99214823 0.99545799]\n",
      "-----------------\n",
      "[0.99362 0.99089 0.99382 0.9942  0.991  ]\n",
      "[0.9932719  0.99111752 0.99400442 0.9936663  0.99179416]\n",
      "-----------------\n",
      "9.635606574921089e-07\n"
     ]
    }
   ],
   "source": [
    "#white wine\n",
    "# cross validation  \n",
    "kf = KFold(n_splits=10) # 5 or 10 # hyperparameter \n",
    "error = []\n",
    "\n",
    "for train, test in kf.split(white_df):\n",
    "    x_train= white_df[:, 0:7]\n",
    "    y_train = white_df[:, 7]  \n",
    "    poly = PolynomialFeatures(5) # hyperparameters 1 2 3 5 \n",
    "    x_transformed = poly.fit_transform(x_train)\n",
    "   \n",
    "    # train the model\n",
    "    white_model = LinearRegression().fit(x_transformed, y_train)\n",
    "    test_df = white_df[test, :]  \n",
    "    # validate \n",
    "    test_df = white_df[test, :]\n",
    "    x_test= test_df[:, 0:7]\n",
    "    y_test = test_df[:, 7]\n",
    "    x_transformed = poly.fit_transform(x_test)\n",
    "    \n",
    "    preds = white_model.predict(x_transformed) \n",
    "\n",
    "    print(y_test[0:5])\n",
    "    print(preds[0:5])\n",
    "    print(\"-----------------\")\n",
    "    \n",
    "    #examining error \n",
    "    error.append(mean_squared_error(y_test, preds))\n",
    "print(statistics.mean(error))"
   ]
  },
  {
   "cell_type": "code",
   "execution_count": 15,
   "id": "7a9463e9-ade7-4cad-a987-383199410b31",
   "metadata": {},
   "outputs": [
    {
     "name": "stdout",
     "output_type": "stream",
     "text": [
      "[6. 5. 5. 7. 7.]\n",
      "[6.18520553 5.51801422 5.43047721 5.95753931 6.15179028]\n",
      "-----------------\n",
      "[6. 5. 5. 7. 7.]\n",
      "[6.57697041 6.23688545 6.04693535 5.62985489 5.58821935]\n",
      "-----------------\n",
      "[6. 5. 5. 7. 7.]\n",
      "[6.01142406 6.02905288 6.28251846 6.51165198 6.4396777 ]\n",
      "-----------------\n",
      "[6. 5. 5. 7. 7.]\n",
      "[6.24638922 5.97208784 6.33590691 5.96382016 5.65478521]\n",
      "-----------------\n",
      "[6. 5. 5. 7. 7.]\n",
      "[5.65516732 6.2148094  6.22029382 5.17993808 5.96018501]\n",
      "-----------------\n",
      "[6. 5. 5. 7. 7.]\n",
      "[5.84245757 6.04240163 6.83319294 5.22781381 5.87824984]\n",
      "-----------------\n",
      "[6. 5. 5. 7. 7.]\n",
      "[6.06717588 5.94208459 5.59075177 6.16070592 5.80406488]\n",
      "-----------------\n",
      "[6. 5. 5. 7. 7.]\n",
      "[5.58800192 5.89946487 6.34282892 5.30114891 5.80354687]\n",
      "-----------------\n",
      "[6. 5. 5. 7. 7.]\n",
      "[5.93592709 5.97386568 5.47135006 6.07565544 5.27197771]\n",
      "-----------------\n",
      "[6. 5. 5. 7. 7.]\n",
      "[5.9254151  6.23888341 5.59703319 5.58908879 6.39996687]\n",
      "-----------------\n",
      "0.5616921800528739\n"
     ]
    }
   ],
   "source": [
    "# training with multicolinearity \n",
    "kf = KFold(n_splits=10) # 5 or 10 # hyperparameter \n",
    "\n",
    "error = []\n",
    "\n",
    "for train, test in kf.split(white_df):\n",
    "    x_train= white_df[:, 0:11]\n",
    "    y_train = white_df[:, 11]  \n",
    "    clf= Ridge(alpha=0.001)\n",
    "    clf.fit(x_train,y_train)\n",
    "      \n",
    "    \n",
    "    # test \n",
    "    test_df = white_df[test, :]\n",
    "    x_test= test_df[:, 0:11]\n",
    "    y_test = test_df[:, 11]\n",
    "    \n",
    "    num_result = clf.predict(x_test)\n",
    "    print(y_train[0:5])\n",
    "    print(num_result[0:5])\n",
    "    print(\"-----------------\")\n",
    "    \n",
    "    #examining error \n",
    "    error.append(mean_squared_error(y_test, num_result))\n",
    "print(statistics.mean(error))"
   ]
  },
  {
   "cell_type": "code",
   "execution_count": 16,
   "id": "01a3ddb0-2939-44f7-b852-61fe25ee6161",
   "metadata": {},
   "outputs": [
    {
     "name": "stdout",
     "output_type": "stream",
     "text": [
      "        0      1     3     5        7     8     9     10\n",
      "0     6.50  0.315   6.6   9.0  0.99494  2.94  0.51   8.8\n",
      "1     6.50  0.350  12.4  86.0  0.99620  3.16  0.51   9.9\n",
      "2     6.60  0.210   9.9  64.0  0.99500  3.07  0.50  10.1\n",
      "3     7.00  0.550   8.0  19.0  0.99269  3.26  0.46  12.2\n",
      "4     6.40  0.300   5.5  62.0  0.99420  3.08  0.45   9.1\n",
      "...    ...    ...   ...   ...      ...   ...   ...   ...\n",
      "3129  6.50  0.250  17.4  29.0  0.99776  3.20  0.49  10.1\n",
      "3130  6.80  0.280   1.4  15.0  0.99180  3.27  0.72  11.7\n",
      "3131  7.15  0.170   9.6  56.0  0.99578  3.15  0.44  10.2\n",
      "3132  6.40  0.270   2.0  21.0  0.99516  3.49  0.63   9.6\n",
      "3133  6.90  0.260   4.2  33.0  0.99020  3.16  0.31  12.5\n",
      "\n",
      "[3134 rows x 8 columns]\n"
     ]
    }
   ],
   "source": [
    "#White Wine significant predictors Fixed acidity, volatile acidity, residual sugar, free sulfur dioxide, density, ph , sulfates, alcohol \n",
    "#saving 20% of data for testing \n",
    "white_df = shuffle(white_df,random_state=21)\n",
    "X_train, X_test, y_train, y_test = train_test_split(white_df[:, 0:11], white_df[:, 11], test_size=0.20, random_state=42)\n",
    "# restructuring dataset \n",
    "X_train = pd.DataFrame(X_train)\n",
    "X_train = X_train.drop(columns = [2, 4, 6])\n",
    "y_train = pd.DataFrame(y_train)\n",
    "print(X_train)\n",
    "X_train.insert(7, \"quality\", y_train, allow_duplicates=True)\n",
    "white_df = X_train.to_numpy()\n",
    "\n",
    "# x_test and y_test are being reserved for validation \n",
    "white_test_x = X_test\n",
    "white_test_y = y_test"
   ]
  },
  {
   "cell_type": "code",
   "execution_count": 17,
   "id": "349b98a5-69f1-4e19-bf45-61aa4349f2c9",
   "metadata": {},
   "outputs": [
    {
     "name": "stdout",
     "output_type": "stream",
     "text": [
      "[5. 6. 6. 6. 6.]\n",
      "[4.49098454 5.65837632 6.18482016 6.77283751 5.48296691]\n",
      "-----------------\n",
      "[7. 7. 5. 6. 7.]\n",
      "[7.58376052 7.02560021 5.24533146 6.51097246 5.79408787]\n",
      "-----------------\n",
      "[7. 5. 7. 6. 6.]\n",
      "[7.28493797 6.26063136 5.93459089 5.14324903 5.89285549]\n",
      "-----------------\n",
      "[6. 6. 6. 6. 8.]\n",
      "[5.95443877 6.32218718 5.88221977 6.5494511  7.65097918]\n",
      "-----------------\n",
      "[6. 6. 8. 4. 6.]\n",
      "[5.89549973 5.79402648 6.90073102 5.81607431 5.15090246]\n",
      "-----------------\n",
      "[7. 5. 5. 5. 6.]\n",
      "[6.41731136 5.48436707 5.29850729 5.58394064 5.88320813]\n",
      "-----------------\n",
      "[5. 6. 6. 6. 6.]\n",
      "[5.30944335 5.53448934 6.24886857 5.74320023 6.14579289]\n",
      "-----------------\n",
      "[5. 6. 7. 6. 7.]\n",
      "[6.08283143 5.69104903 6.27137378 5.22993719 6.46549397]\n",
      "-----------------\n",
      "[6. 6. 6. 3. 6.]\n",
      "[5.51389298 6.16253753 5.70805372 4.53473806 6.2136933 ]\n",
      "-----------------\n",
      "[5. 5. 4. 5. 6.]\n",
      "[5.77633082 5.48969505 4.6330505  5.90029947 5.55415476]\n",
      "-----------------\n",
      "0.37473431197304\n"
     ]
    }
   ],
   "source": [
    "#white wine\n",
    "# cross validation  \n",
    "kf = KFold(n_splits=10) # 5 or 10 # hyperparameter \n",
    "error = []\n",
    "\n",
    "for train, test in kf.split(white_df):\n",
    "    x_train= white_df[:, 0:7]\n",
    "    y_train = white_df[:, 7]  \n",
    "    poly = PolynomialFeatures(5) # hyperparameters 1 2 3 5 \n",
    "    x_transformed = poly.fit_transform(x_train)\n",
    "   \n",
    "    # train the model\n",
    "    white_model = LinearRegression().fit(x_transformed, y_train)\n",
    "    test_df = white_df[test, :]  \n",
    "    # validate \n",
    "    test_df = white_df[test, :]\n",
    "    x_test= test_df[:, 0:7]\n",
    "    y_test = test_df[:, 7]\n",
    "    x_transformed = poly.fit_transform(x_test)\n",
    "    \n",
    "    preds = white_model.predict(x_transformed) \n",
    "\n",
    "    print(y_test[0:5])\n",
    "    print(preds[0:5])\n",
    "    print(\"-----------------\")\n",
    "    \n",
    "    #examining error \n",
    "    error.append(mean_squared_error(y_test, preds))\n",
    "print(statistics.mean(error))"
   ]
  },
  {
   "cell_type": "code",
   "execution_count": null,
   "id": "b7bed44b-7210-466c-9176-6365499993e6",
   "metadata": {},
   "outputs": [],
   "source": []
  }
 ],
 "metadata": {
  "kernelspec": {
   "display_name": "Python 3.8",
   "language": "python",
   "name": "python3"
  },
  "language_info": {
   "codemirror_mode": {
    "name": "ipython",
    "version": 3
   },
   "file_extension": ".py",
   "mimetype": "text/x-python",
   "name": "python",
   "nbconvert_exporter": "python",
   "pygments_lexer": "ipython3",
   "version": "3.8.6"
  }
 },
 "nbformat": 4,
 "nbformat_minor": 5
}
